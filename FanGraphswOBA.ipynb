{
 "cells": [
  {
   "cell_type": "markdown",
   "metadata": {},
   "source": [
    "So for this one, we're going to try to backsolve the weights for FanGraphs' wOBA calculation.  They're actually already up, but I still thought it'd be fun to see how accurately I can compute them on my own.  \n",
    "\n",
    "My longterm goal here is to backsolve as much of their WAR components as I can to see how accurately I can recreate it; that starts with their offensive component, which is largely backed by wOBA.  wOBA is basically a statistic that is supposed to take every offensive outcome into account together with their associated run values.  That is, a single isn't worth a quarter of a home run; they actually on average result in a bit under a run while home runs tend to result in a bit over 2 runs on average.  The goal is to take all of that into account and derive a number that tells you how good a hitter is overall in a way that looks similar to OBP, which you might have more familiarity with.\n",
    "\n",
    "We know from their description of the statistic what numbers go into it; luckily for us, they're all just counting statistics.  You can see the actual formula here (with what appear to be weights from 2013):\n",
    "\n",
    "wOBA = (0.690×uBB + 0.722×HBP + 0.888×1B + 1.271×2B + 1.616×3B +\n",
    "2.101×HR) / (AB + BB – IBB + SF + HBP)\n",
    "\n",
    "In any case, we first need to import the necessary libraries and the data set (which consists of all players with at least 200 PA)."
   ]
  },
  {
   "cell_type": "code",
   "execution_count": 1,
   "metadata": {},
   "outputs": [
    {
     "name": "stderr",
     "output_type": "stream",
     "text": [
      "C:\\Users\\jfahe\\Anaconda3\\lib\\site-packages\\sklearn\\cross_validation.py:44: DeprecationWarning: This module was deprecated in version 0.18 in favor of the model_selection module into which all the refactored classes and functions are moved. Also note that the interface of the new CV iterators are different from that of this module. This module will be removed in 0.20.\n",
      "  \"This module will be removed in 0.20.\", DeprecationWarning)\n"
     ]
    }
   ],
   "source": [
    "import pandas as pd\n",
    "import numpy as np\n",
    "import seaborn as sb\n",
    "import matplotlib.pyplot as  plt\n",
    "\n",
    "from sklearn import linear_model\n",
    "from sklearn import svm, preprocessing, cross_validation\n",
    "from sklearn import tree\n",
    "from sklearn.ensemble import RandomForestRegressor\n",
    "from sklearn.neural_network import MLPRegressor\n",
    "from sklearn.neighbors import KNeighborsRegressor"
   ]
  },
  {
   "cell_type": "code",
   "execution_count": 2,
   "metadata": {},
   "outputs": [
    {
     "data": {
      "text/html": [
       "<div>\n",
       "<style>\n",
       "    .dataframe thead tr:only-child th {\n",
       "        text-align: right;\n",
       "    }\n",
       "\n",
       "    .dataframe thead th {\n",
       "        text-align: left;\n",
       "    }\n",
       "\n",
       "    .dataframe tbody tr th {\n",
       "        vertical-align: top;\n",
       "    }\n",
       "</style>\n",
       "<table border=\"1\" class=\"dataframe\">\n",
       "  <thead>\n",
       "    <tr style=\"text-align: right;\">\n",
       "      <th></th>\n",
       "      <th>Name</th>\n",
       "      <th>Team</th>\n",
       "      <th>AB</th>\n",
       "      <th>BB</th>\n",
       "      <th>IBB</th>\n",
       "      <th>HBP</th>\n",
       "      <th>SF</th>\n",
       "      <th>1B</th>\n",
       "      <th>2B</th>\n",
       "      <th>3B</th>\n",
       "      <th>HR</th>\n",
       "      <th>wOBA</th>\n",
       "      <th>playerid</th>\n",
       "    </tr>\n",
       "  </thead>\n",
       "  <tbody>\n",
       "    <tr>\n",
       "      <th>0</th>\n",
       "      <td>Mike Trout</td>\n",
       "      <td>Angels</td>\n",
       "      <td>402</td>\n",
       "      <td>94</td>\n",
       "      <td>15</td>\n",
       "      <td>7</td>\n",
       "      <td>4</td>\n",
       "      <td>62</td>\n",
       "      <td>25</td>\n",
       "      <td>3</td>\n",
       "      <td>33</td>\n",
       "      <td>0.437</td>\n",
       "      <td>10155</td>\n",
       "    </tr>\n",
       "    <tr>\n",
       "      <th>1</th>\n",
       "      <td>J.D. Martinez</td>\n",
       "      <td>- - -</td>\n",
       "      <td>432</td>\n",
       "      <td>53</td>\n",
       "      <td>8</td>\n",
       "      <td>0</td>\n",
       "      <td>4</td>\n",
       "      <td>57</td>\n",
       "      <td>26</td>\n",
       "      <td>3</td>\n",
       "      <td>45</td>\n",
       "      <td>0.430</td>\n",
       "      <td>6184</td>\n",
       "    </tr>\n",
       "    <tr>\n",
       "      <th>2</th>\n",
       "      <td>Aaron Judge</td>\n",
       "      <td>Yankees</td>\n",
       "      <td>542</td>\n",
       "      <td>127</td>\n",
       "      <td>11</td>\n",
       "      <td>5</td>\n",
       "      <td>4</td>\n",
       "      <td>75</td>\n",
       "      <td>24</td>\n",
       "      <td>3</td>\n",
       "      <td>52</td>\n",
       "      <td>0.430</td>\n",
       "      <td>15640</td>\n",
       "    </tr>\n",
       "    <tr>\n",
       "      <th>3</th>\n",
       "      <td>Joey Votto</td>\n",
       "      <td>Reds</td>\n",
       "      <td>559</td>\n",
       "      <td>134</td>\n",
       "      <td>20</td>\n",
       "      <td>8</td>\n",
       "      <td>6</td>\n",
       "      <td>108</td>\n",
       "      <td>34</td>\n",
       "      <td>1</td>\n",
       "      <td>36</td>\n",
       "      <td>0.428</td>\n",
       "      <td>4314</td>\n",
       "    </tr>\n",
       "    <tr>\n",
       "      <th>4</th>\n",
       "      <td>Rhys Hoskins</td>\n",
       "      <td>Phillies</td>\n",
       "      <td>170</td>\n",
       "      <td>37</td>\n",
       "      <td>1</td>\n",
       "      <td>3</td>\n",
       "      <td>2</td>\n",
       "      <td>19</td>\n",
       "      <td>7</td>\n",
       "      <td>0</td>\n",
       "      <td>18</td>\n",
       "      <td>0.417</td>\n",
       "      <td>16472</td>\n",
       "    </tr>\n",
       "  </tbody>\n",
       "</table>\n",
       "</div>"
      ],
      "text/plain": [
       "            Name      Team   AB   BB  IBB  HBP  SF   1B  2B  3B  HR   wOBA  \\\n",
       "0     Mike Trout    Angels  402   94   15    7   4   62  25   3  33  0.437   \n",
       "1  J.D. Martinez     - - -  432   53    8    0   4   57  26   3  45  0.430   \n",
       "2    Aaron Judge   Yankees  542  127   11    5   4   75  24   3  52  0.430   \n",
       "3     Joey Votto      Reds  559  134   20    8   6  108  34   1  36  0.428   \n",
       "4   Rhys Hoskins  Phillies  170   37    1    3   2   19   7   0  18  0.417   \n",
       "\n",
       "   playerid  \n",
       "0     10155  \n",
       "1      6184  \n",
       "2     15640  \n",
       "3      4314  \n",
       "4     16472  "
      ]
     },
     "execution_count": 2,
     "metadata": {},
     "output_type": "execute_result"
    }
   ],
   "source": [
    "df = pd.read_csv('FanGraphswOBA.csv')\n",
    "df.head()"
   ]
  },
  {
   "cell_type": "markdown",
   "metadata": {},
   "source": [
    "First things first, we need to create the variable for unintentional walks, which is just BB - IBB.  The denominator in the equation also looks like it's just PA without intentional walks, so we can recreate that too."
   ]
  },
  {
   "cell_type": "code",
   "execution_count": 3,
   "metadata": {
    "collapsed": true
   },
   "outputs": [],
   "source": [
    "df['uBB'] = df['BB'] - df['IBB']\n",
    "df['PA'] = df['AB'] + df['uBB'] + df['SF'] + df['HBP']"
   ]
  },
  {
   "cell_type": "code",
   "execution_count": 4,
   "metadata": {},
   "outputs": [
    {
     "data": {
      "text/html": [
       "<div>\n",
       "<style>\n",
       "    .dataframe thead tr:only-child th {\n",
       "        text-align: right;\n",
       "    }\n",
       "\n",
       "    .dataframe thead th {\n",
       "        text-align: left;\n",
       "    }\n",
       "\n",
       "    .dataframe tbody tr th {\n",
       "        vertical-align: top;\n",
       "    }\n",
       "</style>\n",
       "<table border=\"1\" class=\"dataframe\">\n",
       "  <thead>\n",
       "    <tr style=\"text-align: right;\">\n",
       "      <th></th>\n",
       "      <th>Name</th>\n",
       "      <th>Team</th>\n",
       "      <th>AB</th>\n",
       "      <th>BB</th>\n",
       "      <th>IBB</th>\n",
       "      <th>HBP</th>\n",
       "      <th>SF</th>\n",
       "      <th>1B</th>\n",
       "      <th>2B</th>\n",
       "      <th>3B</th>\n",
       "      <th>HR</th>\n",
       "      <th>wOBA</th>\n",
       "      <th>playerid</th>\n",
       "      <th>uBB</th>\n",
       "      <th>PA</th>\n",
       "    </tr>\n",
       "  </thead>\n",
       "  <tbody>\n",
       "    <tr>\n",
       "      <th>0</th>\n",
       "      <td>Mike Trout</td>\n",
       "      <td>Angels</td>\n",
       "      <td>402</td>\n",
       "      <td>94</td>\n",
       "      <td>15</td>\n",
       "      <td>7</td>\n",
       "      <td>4</td>\n",
       "      <td>62</td>\n",
       "      <td>25</td>\n",
       "      <td>3</td>\n",
       "      <td>33</td>\n",
       "      <td>0.437</td>\n",
       "      <td>10155</td>\n",
       "      <td>79</td>\n",
       "      <td>492</td>\n",
       "    </tr>\n",
       "    <tr>\n",
       "      <th>1</th>\n",
       "      <td>J.D. Martinez</td>\n",
       "      <td>- - -</td>\n",
       "      <td>432</td>\n",
       "      <td>53</td>\n",
       "      <td>8</td>\n",
       "      <td>0</td>\n",
       "      <td>4</td>\n",
       "      <td>57</td>\n",
       "      <td>26</td>\n",
       "      <td>3</td>\n",
       "      <td>45</td>\n",
       "      <td>0.430</td>\n",
       "      <td>6184</td>\n",
       "      <td>45</td>\n",
       "      <td>481</td>\n",
       "    </tr>\n",
       "    <tr>\n",
       "      <th>2</th>\n",
       "      <td>Aaron Judge</td>\n",
       "      <td>Yankees</td>\n",
       "      <td>542</td>\n",
       "      <td>127</td>\n",
       "      <td>11</td>\n",
       "      <td>5</td>\n",
       "      <td>4</td>\n",
       "      <td>75</td>\n",
       "      <td>24</td>\n",
       "      <td>3</td>\n",
       "      <td>52</td>\n",
       "      <td>0.430</td>\n",
       "      <td>15640</td>\n",
       "      <td>116</td>\n",
       "      <td>667</td>\n",
       "    </tr>\n",
       "    <tr>\n",
       "      <th>3</th>\n",
       "      <td>Joey Votto</td>\n",
       "      <td>Reds</td>\n",
       "      <td>559</td>\n",
       "      <td>134</td>\n",
       "      <td>20</td>\n",
       "      <td>8</td>\n",
       "      <td>6</td>\n",
       "      <td>108</td>\n",
       "      <td>34</td>\n",
       "      <td>1</td>\n",
       "      <td>36</td>\n",
       "      <td>0.428</td>\n",
       "      <td>4314</td>\n",
       "      <td>114</td>\n",
       "      <td>687</td>\n",
       "    </tr>\n",
       "    <tr>\n",
       "      <th>4</th>\n",
       "      <td>Rhys Hoskins</td>\n",
       "      <td>Phillies</td>\n",
       "      <td>170</td>\n",
       "      <td>37</td>\n",
       "      <td>1</td>\n",
       "      <td>3</td>\n",
       "      <td>2</td>\n",
       "      <td>19</td>\n",
       "      <td>7</td>\n",
       "      <td>0</td>\n",
       "      <td>18</td>\n",
       "      <td>0.417</td>\n",
       "      <td>16472</td>\n",
       "      <td>36</td>\n",
       "      <td>211</td>\n",
       "    </tr>\n",
       "  </tbody>\n",
       "</table>\n",
       "</div>"
      ],
      "text/plain": [
       "            Name      Team   AB   BB  IBB  HBP  SF   1B  2B  3B  HR   wOBA  \\\n",
       "0     Mike Trout    Angels  402   94   15    7   4   62  25   3  33  0.437   \n",
       "1  J.D. Martinez     - - -  432   53    8    0   4   57  26   3  45  0.430   \n",
       "2    Aaron Judge   Yankees  542  127   11    5   4   75  24   3  52  0.430   \n",
       "3     Joey Votto      Reds  559  134   20    8   6  108  34   1  36  0.428   \n",
       "4   Rhys Hoskins  Phillies  170   37    1    3   2   19   7   0  18  0.417   \n",
       "\n",
       "   playerid  uBB   PA  \n",
       "0     10155   79  492  \n",
       "1      6184   45  481  \n",
       "2     15640  116  667  \n",
       "3      4314  114  687  \n",
       "4     16472   36  211  "
      ]
     },
     "execution_count": 4,
     "metadata": {},
     "output_type": "execute_result"
    }
   ],
   "source": [
    "df.head()"
   ]
  },
  {
   "cell_type": "markdown",
   "metadata": {},
   "source": [
    "Just for fun, I generated a distribution plot of the wOBA values in our data set.  As you can see, most players tend to fall somewhere in the .250-.400 range.  Looks about right to me."
   ]
  },
  {
   "cell_type": "code",
   "execution_count": 5,
   "metadata": {},
   "outputs": [
    {
     "data": {
      "image/png": "[encoded data removed]",
      "text/plain": [
       "<matplotlib.figure.Figure at 0x2826bb95f98>"
      ]
     },
     "metadata": {},
     "output_type": "display_data"
    }
   ],
   "source": [
    "sb.distplot(df['wOBA'])\n",
    "plt.show()"
   ]
  },
  {
   "cell_type": "markdown",
   "metadata": {},
   "source": [
    "Now we're ready to start prepping our data set for modeling.  We can drop the variables we know don't matter (name, team, and ID) as well as variables that are already accounted for and don't need their own weights (overall walks and intentional walks)."
   ]
  },
  {
   "cell_type": "code",
   "execution_count": 6,
   "metadata": {
    "collapsed": true
   },
   "outputs": [],
   "source": [
    "df_clean = df.drop(['Name','Team','AB','IBB','BB','playerid'],axis = 1)"
   ]
  },
  {
   "cell_type": "code",
   "execution_count": 7,
   "metadata": {},
   "outputs": [
    {
     "data": {
      "text/plain": [
       "['HBP', 'SF', '1B', '2B', '3B', 'HR', 'uBB', 'PA', 'wOBA']"
      ]
     },
     "execution_count": 7,
     "metadata": {},
     "output_type": "execute_result"
    }
   ],
   "source": [
    "cols = df_clean.columns.tolist()\n",
    "cols.remove('wOBA')\n",
    "cols.append('wOBA')\n",
    "cols"
   ]
  },
  {
   "cell_type": "code",
   "execution_count": 8,
   "metadata": {
    "collapsed": true
   },
   "outputs": [],
   "source": [
    "df_clean = df_clean[cols]"
   ]
  },
  {
   "cell_type": "code",
   "execution_count": 9,
   "metadata": {},
   "outputs": [
    {
     "data": {
      "text/html": [
       "<div>\n",
       "<style>\n",
       "    .dataframe thead tr:only-child th {\n",
       "        text-align: right;\n",
       "    }\n",
       "\n",
       "    .dataframe thead th {\n",
       "        text-align: left;\n",
       "    }\n",
       "\n",
       "    .dataframe tbody tr th {\n",
       "        vertical-align: top;\n",
       "    }\n",
       "</style>\n",
       "<table border=\"1\" class=\"dataframe\">\n",
       "  <thead>\n",
       "    <tr style=\"text-align: right;\">\n",
       "      <th></th>\n",
       "      <th>HBP</th>\n",
       "      <th>SF</th>\n",
       "      <th>1B</th>\n",
       "      <th>2B</th>\n",
       "      <th>3B</th>\n",
       "      <th>HR</th>\n",
       "      <th>uBB</th>\n",
       "      <th>PA</th>\n",
       "      <th>wOBA</th>\n",
       "    </tr>\n",
       "  </thead>\n",
       "  <tbody>\n",
       "    <tr>\n",
       "      <th>count</th>\n",
       "      <td>349.000000</td>\n",
       "      <td>349.000000</td>\n",
       "      <td>349.000000</td>\n",
       "      <td>349.000000</td>\n",
       "      <td>349.000000</td>\n",
       "      <td>349.000000</td>\n",
       "      <td>349.000000</td>\n",
       "      <td>349.000000</td>\n",
       "      <td>349.000000</td>\n",
       "    </tr>\n",
       "    <tr>\n",
       "      <th>mean</th>\n",
       "      <td>4.372493</td>\n",
       "      <td>2.965616</td>\n",
       "      <td>67.985673</td>\n",
       "      <td>21.624642</td>\n",
       "      <td>1.977077</td>\n",
       "      <td>16.071633</td>\n",
       "      <td>37.836676</td>\n",
       "      <td>452.988539</td>\n",
       "      <td>0.327536</td>\n",
       "    </tr>\n",
       "    <tr>\n",
       "      <th>std</th>\n",
       "      <td>3.876534</td>\n",
       "      <td>2.149303</td>\n",
       "      <td>27.198447</td>\n",
       "      <td>9.334436</td>\n",
       "      <td>2.062122</td>\n",
       "      <td>10.284908</td>\n",
       "      <td>19.690543</td>\n",
       "      <td>144.768701</td>\n",
       "      <td>0.037286</td>\n",
       "    </tr>\n",
       "    <tr>\n",
       "      <th>min</th>\n",
       "      <td>0.000000</td>\n",
       "      <td>0.000000</td>\n",
       "      <td>19.000000</td>\n",
       "      <td>2.000000</td>\n",
       "      <td>0.000000</td>\n",
       "      <td>0.000000</td>\n",
       "      <td>8.000000</td>\n",
       "      <td>200.000000</td>\n",
       "      <td>0.223000</td>\n",
       "    </tr>\n",
       "    <tr>\n",
       "      <th>25%</th>\n",
       "      <td>2.000000</td>\n",
       "      <td>1.000000</td>\n",
       "      <td>47.000000</td>\n",
       "      <td>15.000000</td>\n",
       "      <td>0.000000</td>\n",
       "      <td>8.000000</td>\n",
       "      <td>23.000000</td>\n",
       "      <td>328.000000</td>\n",
       "      <td>0.305000</td>\n",
       "    </tr>\n",
       "    <tr>\n",
       "      <th>50%</th>\n",
       "      <td>4.000000</td>\n",
       "      <td>3.000000</td>\n",
       "      <td>66.000000</td>\n",
       "      <td>20.000000</td>\n",
       "      <td>1.000000</td>\n",
       "      <td>14.000000</td>\n",
       "      <td>34.000000</td>\n",
       "      <td>457.000000</td>\n",
       "      <td>0.325000</td>\n",
       "    </tr>\n",
       "    <tr>\n",
       "      <th>75%</th>\n",
       "      <td>6.000000</td>\n",
       "      <td>4.000000</td>\n",
       "      <td>87.000000</td>\n",
       "      <td>28.000000</td>\n",
       "      <td>3.000000</td>\n",
       "      <td>23.000000</td>\n",
       "      <td>49.000000</td>\n",
       "      <td>575.000000</td>\n",
       "      <td>0.349000</td>\n",
       "    </tr>\n",
       "    <tr>\n",
       "      <th>max</th>\n",
       "      <td>24.000000</td>\n",
       "      <td>12.000000</td>\n",
       "      <td>170.000000</td>\n",
       "      <td>56.000000</td>\n",
       "      <td>14.000000</td>\n",
       "      <td>59.000000</td>\n",
       "      <td>116.000000</td>\n",
       "      <td>713.000000</td>\n",
       "      <td>0.437000</td>\n",
       "    </tr>\n",
       "  </tbody>\n",
       "</table>\n",
       "</div>"
      ],
      "text/plain": [
       "              HBP          SF          1B          2B          3B          HR  \\\n",
       "count  349.000000  349.000000  349.000000  349.000000  349.000000  349.000000   \n",
       "mean     4.372493    2.965616   67.985673   21.624642    1.977077   16.071633   \n",
       "std      3.876534    2.149303   27.198447    9.334436    2.062122   10.284908   \n",
       "min      0.000000    0.000000   19.000000    2.000000    0.000000    0.000000   \n",
       "25%      2.000000    1.000000   47.000000   15.000000    0.000000    8.000000   \n",
       "50%      4.000000    3.000000   66.000000   20.000000    1.000000   14.000000   \n",
       "75%      6.000000    4.000000   87.000000   28.000000    3.000000   23.000000   \n",
       "max     24.000000   12.000000  170.000000   56.000000   14.000000   59.000000   \n",
       "\n",
       "              uBB          PA        wOBA  \n",
       "count  349.000000  349.000000  349.000000  \n",
       "mean    37.836676  452.988539    0.327536  \n",
       "std     19.690543  144.768701    0.037286  \n",
       "min      8.000000  200.000000    0.223000  \n",
       "25%     23.000000  328.000000    0.305000  \n",
       "50%     34.000000  457.000000    0.325000  \n",
       "75%     49.000000  575.000000    0.349000  \n",
       "max    116.000000  713.000000    0.437000  "
      ]
     },
     "execution_count": 9,
     "metadata": {},
     "output_type": "execute_result"
    }
   ],
   "source": [
    "df_clean.describe()"
   ]
  },
  {
   "cell_type": "code",
   "execution_count": 10,
   "metadata": {},
   "outputs": [
    {
     "data": {
      "image/png": "[encoded data removed]",
      "text/plain": [
       "<matplotlib.figure.Figure at 0x2826bfc8cf8>"
      ]
     },
     "metadata": {},
     "output_type": "display_data"
    }
   ],
   "source": [
    "corrmat = df_clean.corr()\n",
    "f, ax = plt.subplots(figsize=(12, 9))\n",
    "sb.heatmap(corrmat, vmax=.8, square=True)\n",
    "plt.show()"
   ]
  },
  {
   "cell_type": "markdown",
   "metadata": {},
   "source": [
    "This is a correlation heatmap that shows how much each variable correlates which each other.  We can see that not very many of these seem to correlate very strongly at all with wOBA, which is a little troubling.  But let's just keep going and see what happens."
   ]
  },
  {
   "cell_type": "code",
   "execution_count": 11,
   "metadata": {},
   "outputs": [
    {
     "name": "stderr",
     "output_type": "stream",
     "text": [
      "C:\\Users\\jfahe\\Anaconda3\\lib\\site-packages\\sklearn\\utils\\validation.py:429: DataConversionWarning: Data with input dtype int64 was converted to float64 by the scale function.\n",
      "  warnings.warn(msg, _DataConversionWarning)\n"
     ]
    }
   ],
   "source": [
    "X = np.array(df_clean.drop(['wOBA'],1))\n",
    "X = preprocessing.scale(X)\n",
    "y = np.array(df_clean.wOBA)"
   ]
  },
  {
   "cell_type": "code",
   "execution_count": 12,
   "metadata": {
    "collapsed": true
   },
   "outputs": [],
   "source": [
    "X_train, X_test, y_train, y_test = cross_validation.train_test_split(X,y, test_size = 0.3)"
   ]
  },
  {
   "cell_type": "code",
   "execution_count": 13,
   "metadata": {},
   "outputs": [
    {
     "name": "stdout",
     "output_type": "stream",
     "text": [
      "0.864298833095\n"
     ]
    }
   ],
   "source": [
    "lm = linear_model.LinearRegression()\n",
    "lm.fit(X_train,y_train)\n",
    "print(lm.score(X_test,y_test))"
   ]
  },
  {
   "cell_type": "code",
   "execution_count": 14,
   "metadata": {
    "collapsed": true
   },
   "outputs": [],
   "source": [
    "coef_list = list(lm.coef_)\n",
    "col_list = list(df_clean.columns)\n",
    "col_list = col_list[0:(len(col_list)-1)]\n",
    "weight_df = pd.DataFrame(columns=['Variable','Weight'])\n",
    "weight_df['Variable'] = col_list\n",
    "weight_df['Weight'] = coef_list"
   ]
  },
  {
   "cell_type": "code",
   "execution_count": 15,
   "metadata": {},
   "outputs": [
    {
     "data": {
      "text/html": [
       "<div>\n",
       "<style>\n",
       "    .dataframe thead tr:only-child th {\n",
       "        text-align: right;\n",
       "    }\n",
       "\n",
       "    .dataframe thead th {\n",
       "        text-align: left;\n",
       "    }\n",
       "\n",
       "    .dataframe tbody tr th {\n",
       "        vertical-align: top;\n",
       "    }\n",
       "</style>\n",
       "<table border=\"1\" class=\"dataframe\">\n",
       "  <thead>\n",
       "    <tr style=\"text-align: right;\">\n",
       "      <th></th>\n",
       "      <th>Variable</th>\n",
       "      <th>Weight</th>\n",
       "    </tr>\n",
       "  </thead>\n",
       "  <tbody>\n",
       "    <tr>\n",
       "      <th>0</th>\n",
       "      <td>HBP</td>\n",
       "      <td>0.006022</td>\n",
       "    </tr>\n",
       "    <tr>\n",
       "      <th>1</th>\n",
       "      <td>SF</td>\n",
       "      <td>-0.000252</td>\n",
       "    </tr>\n",
       "    <tr>\n",
       "      <th>2</th>\n",
       "      <td>1B</td>\n",
       "      <td>0.045315</td>\n",
       "    </tr>\n",
       "    <tr>\n",
       "      <th>3</th>\n",
       "      <td>2B</td>\n",
       "      <td>0.023268</td>\n",
       "    </tr>\n",
       "    <tr>\n",
       "      <th>4</th>\n",
       "      <td>3B</td>\n",
       "      <td>0.005983</td>\n",
       "    </tr>\n",
       "    <tr>\n",
       "      <th>5</th>\n",
       "      <td>HR</td>\n",
       "      <td>0.038637</td>\n",
       "    </tr>\n",
       "    <tr>\n",
       "      <th>6</th>\n",
       "      <td>uBB</td>\n",
       "      <td>0.025498</td>\n",
       "    </tr>\n",
       "    <tr>\n",
       "      <th>7</th>\n",
       "      <td>PA</td>\n",
       "      <td>-0.088337</td>\n",
       "    </tr>\n",
       "  </tbody>\n",
       "</table>\n",
       "</div>"
      ],
      "text/plain": [
       "  Variable    Weight\n",
       "0      HBP  0.006022\n",
       "1       SF -0.000252\n",
       "2       1B  0.045315\n",
       "3       2B  0.023268\n",
       "4       3B  0.005983\n",
       "5       HR  0.038637\n",
       "6      uBB  0.025498\n",
       "7       PA -0.088337"
      ]
     },
     "execution_count": 15,
     "metadata": {},
     "output_type": "execute_result"
    }
   ],
   "source": [
    "weight_df"
   ]
  },
  {
   "cell_type": "markdown",
   "metadata": {},
   "source": [
    "So this wasn't bad, but the linear regressor is the only thing that even remotely works here.  One thing you could try is transforming all of the input variables into their per-PA rates, which means you'd no longer have PA as a predictor.  "
   ]
  },
  {
   "cell_type": "code",
   "execution_count": 16,
   "metadata": {},
   "outputs": [
    {
     "data": {
      "text/plain": [
       "Index(['HBP', 'SF', '1B', '2B', '3B', 'HR', 'uBB', 'PA', 'wOBA'], dtype='object')"
      ]
     },
     "execution_count": 16,
     "metadata": {},
     "output_type": "execute_result"
    }
   ],
   "source": [
    "df_clean.columns"
   ]
  },
  {
   "cell_type": "code",
   "execution_count": 17,
   "metadata": {
    "collapsed": true
   },
   "outputs": [],
   "source": [
    "for i in cols[0:7]:\n",
    "    df_clean[str(i)] = df_clean[str(i)]/df_clean['PA']"
   ]
  },
  {
   "cell_type": "code",
   "execution_count": 18,
   "metadata": {
    "collapsed": true
   },
   "outputs": [],
   "source": [
    "df_clean = df_clean.drop('PA',axis=1)"
   ]
  },
  {
   "cell_type": "code",
   "execution_count": 19,
   "metadata": {},
   "outputs": [
    {
     "data": {
      "image/png": "[encoded data removed]",
      "text/plain": [
       "<matplotlib.figure.Figure at 0x2826c0f8ef0>"
      ]
     },
     "metadata": {},
     "output_type": "display_data"
    }
   ],
   "source": [
    "corrmat = df_clean.corr()\n",
    "f, ax = plt.subplots(figsize=(12, 9))\n",
    "sb.heatmap(corrmat, vmax=.8, square=True)\n",
    "plt.show()"
   ]
  },
  {
   "cell_type": "markdown",
   "metadata": {},
   "source": [
    "Still not quite as much strong correlation as we'd like to see, but some of the features do seem a lot stronger.  Let's try modeling it again and see what happens."
   ]
  },
  {
   "cell_type": "code",
   "execution_count": 20,
   "metadata": {
    "collapsed": true
   },
   "outputs": [],
   "source": [
    "X = np.array(df_clean.drop(['wOBA'],1))\n",
    "X = preprocessing.scale(X)\n",
    "y = np.array(df_clean.wOBA)"
   ]
  },
  {
   "cell_type": "code",
   "execution_count": 21,
   "metadata": {
    "collapsed": true
   },
   "outputs": [],
   "source": [
    "X_train, X_test, y_train, y_test = cross_validation.train_test_split(X,y, test_size = 0.3)"
   ]
  },
  {
   "cell_type": "code",
   "execution_count": 22,
   "metadata": {},
   "outputs": [
    {
     "name": "stdout",
     "output_type": "stream",
     "text": [
      "0.999934945539\n"
     ]
    }
   ],
   "source": [
    "lm = linear_model.LinearRegression()\n",
    "lm.fit(X_train,y_train)\n",
    "print(lm.score(X_test,y_test))"
   ]
  },
  {
   "cell_type": "code",
   "execution_count": 23,
   "metadata": {
    "collapsed": true
   },
   "outputs": [],
   "source": [
    "coef_list = list(lm.coef_)\n",
    "col_list = list(df_clean.columns)\n",
    "col_list = col_list[0:(len(col_list)-1)]\n",
    "weight_df = pd.DataFrame(columns=['Variable','Weight'])\n",
    "weight_df['Variable'] = col_list\n",
    "weight_df['Weight'] = coef_list"
   ]
  },
  {
   "cell_type": "code",
   "execution_count": 24,
   "metadata": {},
   "outputs": [
    {
     "data": {
      "text/html": [
       "<div>\n",
       "<style>\n",
       "    .dataframe thead tr:only-child th {\n",
       "        text-align: right;\n",
       "    }\n",
       "\n",
       "    .dataframe thead th {\n",
       "        text-align: left;\n",
       "    }\n",
       "\n",
       "    .dataframe tbody tr th {\n",
       "        vertical-align: top;\n",
       "    }\n",
       "</style>\n",
       "<table border=\"1\" class=\"dataframe\">\n",
       "  <thead>\n",
       "    <tr style=\"text-align: right;\">\n",
       "      <th></th>\n",
       "      <th>Variable</th>\n",
       "      <th>Weight</th>\n",
       "    </tr>\n",
       "  </thead>\n",
       "  <tbody>\n",
       "    <tr>\n",
       "      <th>0</th>\n",
       "      <td>HBP</td>\n",
       "      <td>0.006006</td>\n",
       "    </tr>\n",
       "    <tr>\n",
       "      <th>1</th>\n",
       "      <td>SF</td>\n",
       "      <td>0.000018</td>\n",
       "    </tr>\n",
       "    <tr>\n",
       "      <th>2</th>\n",
       "      <td>1B</td>\n",
       "      <td>0.027429</td>\n",
       "    </tr>\n",
       "    <tr>\n",
       "      <th>3</th>\n",
       "      <td>2B</td>\n",
       "      <td>0.015201</td>\n",
       "    </tr>\n",
       "    <tr>\n",
       "      <th>4</th>\n",
       "      <td>3B</td>\n",
       "      <td>0.006496</td>\n",
       "    </tr>\n",
       "    <tr>\n",
       "      <th>5</th>\n",
       "      <td>HR</td>\n",
       "      <td>0.033950</td>\n",
       "    </tr>\n",
       "    <tr>\n",
       "      <th>6</th>\n",
       "      <td>uBB</td>\n",
       "      <td>0.021553</td>\n",
       "    </tr>\n",
       "  </tbody>\n",
       "</table>\n",
       "</div>"
      ],
      "text/plain": [
       "  Variable    Weight\n",
       "0      HBP  0.006006\n",
       "1       SF  0.000018\n",
       "2       1B  0.027429\n",
       "3       2B  0.015201\n",
       "4       3B  0.006496\n",
       "5       HR  0.033950\n",
       "6      uBB  0.021553"
      ]
     },
     "execution_count": 24,
     "metadata": {},
     "output_type": "execute_result"
    }
   ],
   "source": [
    "weight_df"
   ]
  },
  {
   "cell_type": "markdown",
   "metadata": {},
   "source": [
    "So that went literally perfectly.  Luckily for us, park adjustments aren't applied until after wOBA is converted to RC, so for now, we have a perfect recreation of offensive output. \n",
    "\n",
    "The next step is to convert wOBA to wRAA (weighted Runs Above Average).  Their formula is given with this equation:\n",
    "\n",
    "((wOBA-League wOBA)/wOBA Scale)*PA = wRAA\n",
    "\n",
    "This step is really pretty simple; we just need to subtract the league average wOBA from each player's wOBA, divide by their wOBA scale (which is just there to convert wOBA into a number that more closely resembles OBP), and multiply by PA.  We're kind of going to cheat here and just use their league average wOBA (.321) without computing it ourselves because the dataset we went with leaves out all of the players that didn't reach 200 PA (meaning the true league average is a bit lower than what we'd get).  We're also just going to use their given scale value (1.185).\n",
    "\n",
    "First, we need to derive and store all of the predicted wOBA values and then create a PA column that also includes IBB (which they exclude from PA in the wOBA calculation)."
   ]
  },
  {
   "cell_type": "code",
   "execution_count": 25,
   "metadata": {
    "collapsed": true
   },
   "outputs": [],
   "source": [
    "df['pred_wOBA'] = lm.predict(X)"
   ]
  },
  {
   "cell_type": "code",
   "execution_count": 26,
   "metadata": {
    "collapsed": true
   },
   "outputs": [],
   "source": [
    "df['pred_wRAA'] = (df['pred_wOBA'] - .321)/1.185 * (df['PA'] + df['IBB'])"
   ]
  },
  {
   "cell_type": "code",
   "execution_count": 27,
   "metadata": {},
   "outputs": [
    {
     "data": {
      "text/html": [
       "<div>\n",
       "<style>\n",
       "    .dataframe thead tr:only-child th {\n",
       "        text-align: right;\n",
       "    }\n",
       "\n",
       "    .dataframe thead th {\n",
       "        text-align: left;\n",
       "    }\n",
       "\n",
       "    .dataframe tbody tr th {\n",
       "        vertical-align: top;\n",
       "    }\n",
       "</style>\n",
       "<table border=\"1\" class=\"dataframe\">\n",
       "  <thead>\n",
       "    <tr style=\"text-align: right;\">\n",
       "      <th></th>\n",
       "      <th>Name</th>\n",
       "      <th>Team</th>\n",
       "      <th>AB</th>\n",
       "      <th>BB</th>\n",
       "      <th>IBB</th>\n",
       "      <th>HBP</th>\n",
       "      <th>SF</th>\n",
       "      <th>1B</th>\n",
       "      <th>2B</th>\n",
       "      <th>3B</th>\n",
       "      <th>HR</th>\n",
       "      <th>wOBA</th>\n",
       "      <th>playerid</th>\n",
       "      <th>uBB</th>\n",
       "      <th>PA</th>\n",
       "      <th>pred_wOBA</th>\n",
       "      <th>pred_wRAA</th>\n",
       "    </tr>\n",
       "  </thead>\n",
       "  <tbody>\n",
       "    <tr>\n",
       "      <th>0</th>\n",
       "      <td>Mike Trout</td>\n",
       "      <td>Angels</td>\n",
       "      <td>402</td>\n",
       "      <td>94</td>\n",
       "      <td>15</td>\n",
       "      <td>7</td>\n",
       "      <td>4</td>\n",
       "      <td>62</td>\n",
       "      <td>25</td>\n",
       "      <td>3</td>\n",
       "      <td>33</td>\n",
       "      <td>0.437</td>\n",
       "      <td>10155</td>\n",
       "      <td>79</td>\n",
       "      <td>492</td>\n",
       "      <td>0.437002</td>\n",
       "      <td>49.631253</td>\n",
       "    </tr>\n",
       "    <tr>\n",
       "      <th>1</th>\n",
       "      <td>J.D. Martinez</td>\n",
       "      <td>- - -</td>\n",
       "      <td>432</td>\n",
       "      <td>53</td>\n",
       "      <td>8</td>\n",
       "      <td>0</td>\n",
       "      <td>4</td>\n",
       "      <td>57</td>\n",
       "      <td>26</td>\n",
       "      <td>3</td>\n",
       "      <td>45</td>\n",
       "      <td>0.430</td>\n",
       "      <td>6184</td>\n",
       "      <td>45</td>\n",
       "      <td>481</td>\n",
       "      <td>0.430285</td>\n",
       "      <td>45.097467</td>\n",
       "    </tr>\n",
       "    <tr>\n",
       "      <th>2</th>\n",
       "      <td>Aaron Judge</td>\n",
       "      <td>Yankees</td>\n",
       "      <td>542</td>\n",
       "      <td>127</td>\n",
       "      <td>11</td>\n",
       "      <td>5</td>\n",
       "      <td>4</td>\n",
       "      <td>75</td>\n",
       "      <td>24</td>\n",
       "      <td>3</td>\n",
       "      <td>52</td>\n",
       "      <td>0.430</td>\n",
       "      <td>15640</td>\n",
       "      <td>116</td>\n",
       "      <td>667</td>\n",
       "      <td>0.430317</td>\n",
       "      <td>62.546135</td>\n",
       "    </tr>\n",
       "    <tr>\n",
       "      <th>3</th>\n",
       "      <td>Joey Votto</td>\n",
       "      <td>Reds</td>\n",
       "      <td>559</td>\n",
       "      <td>134</td>\n",
       "      <td>20</td>\n",
       "      <td>8</td>\n",
       "      <td>6</td>\n",
       "      <td>108</td>\n",
       "      <td>34</td>\n",
       "      <td>1</td>\n",
       "      <td>36</td>\n",
       "      <td>0.428</td>\n",
       "      <td>4314</td>\n",
       "      <td>114</td>\n",
       "      <td>687</td>\n",
       "      <td>0.428324</td>\n",
       "      <td>64.032053</td>\n",
       "    </tr>\n",
       "    <tr>\n",
       "      <th>4</th>\n",
       "      <td>Rhys Hoskins</td>\n",
       "      <td>Phillies</td>\n",
       "      <td>170</td>\n",
       "      <td>37</td>\n",
       "      <td>1</td>\n",
       "      <td>3</td>\n",
       "      <td>2</td>\n",
       "      <td>19</td>\n",
       "      <td>7</td>\n",
       "      <td>0</td>\n",
       "      <td>18</td>\n",
       "      <td>0.417</td>\n",
       "      <td>16472</td>\n",
       "      <td>36</td>\n",
       "      <td>211</td>\n",
       "      <td>0.417406</td>\n",
       "      <td>17.247271</td>\n",
       "    </tr>\n",
       "  </tbody>\n",
       "</table>\n",
       "</div>"
      ],
      "text/plain": [
       "            Name      Team   AB   BB  IBB  HBP  SF   1B  2B  3B  HR   wOBA  \\\n",
       "0     Mike Trout    Angels  402   94   15    7   4   62  25   3  33  0.437   \n",
       "1  J.D. Martinez     - - -  432   53    8    0   4   57  26   3  45  0.430   \n",
       "2    Aaron Judge   Yankees  542  127   11    5   4   75  24   3  52  0.430   \n",
       "3     Joey Votto      Reds  559  134   20    8   6  108  34   1  36  0.428   \n",
       "4   Rhys Hoskins  Phillies  170   37    1    3   2   19   7   0  18  0.417   \n",
       "\n",
       "   playerid  uBB   PA  pred_wOBA  pred_wRAA  \n",
       "0     10155   79  492   0.437002  49.631253  \n",
       "1      6184   45  481   0.430285  45.097467  \n",
       "2     15640  116  667   0.430317  62.546135  \n",
       "3      4314  114  687   0.428324  64.032053  \n",
       "4     16472   36  211   0.417406  17.247271  "
      ]
     },
     "execution_count": 27,
     "metadata": {},
     "output_type": "execute_result"
    }
   ],
   "source": [
    "df.head()"
   ]
  },
  {
   "cell_type": "markdown",
   "metadata": {},
   "source": [
    "So now we have our predicted wRAA.  The last step before we arrive at our final calculation for batting runs is to take two things into account: what park they play in and what league they're in (AL or NL).  They give the formula for that here:\n",
    "\n",
    "Batting Runs = wRAA + (lgR/PA – (PF*lgR/PA))*PA + (lgR/PA – (AL or NL non-pitcher wRC/PA))*PA\n",
    "\n",
    "This poses a bit of a tougher problem.  I could find a way to derive the run values for what league a player is in, but I have no means of just grabbing their park factors given that FanGraphs only has them up for 2015.  I suppose given that I can compute the league part, I could just backsolve those too using our wRAA predictions and comparing them against the position player batting runs.  I might save that for another time."
   ]
  }
 ],
 "metadata": {
  "kernelspec": {
   "display_name": "Python 3",
   "language": "python",
   "name": "python3"
  },
  "language_info": {
   "codemirror_mode": {
    "name": "ipython",
    "version": 3
   },
   "file_extension": ".py",
   "mimetype": "text/x-python",
   "name": "python",
   "nbconvert_exporter": "python",
   "pygments_lexer": "ipython3",
   "version": "3.6.1"
  }
 },
 "nbformat": 4,
 "nbformat_minor": 2
}
